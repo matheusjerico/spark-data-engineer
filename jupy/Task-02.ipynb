{
 "cells": [
  {
   "cell_type": "markdown",
   "metadata": {},
   "source": [
    "#### Task 2\n",
    "Leia o arquivo pedidos.csv e agrupe todos os cliente que fizeram mais de 2 compras nos dias de black friday dos últimos três anos. Filtre todos os clientes que são menores de 30 anos e\n",
    "coloque numa lista TODOS os códigos de pedido e a data em que foram efetuados. Adicione também a idade do cliente.\n",
    "Dataset: ​ https://storage.googleapis.com/luizalabs-hiring-test/clientes_pedidos.csv"
   ]
  },
  {
   "cell_type": "code",
   "execution_count": 3,
   "metadata": {},
   "outputs": [
    {
     "name": "stdout",
     "output_type": "stream",
     "text": [
      "--2020-11-11 23:23:44--  https://storage.googleapis.com/luizalabs-hiring-test/clientes_pedidos.csv\n",
      "Resolving storage.googleapis.com (storage.googleapis.com)... 2800:3f0:4004:808::2010, 2800:3f0:4004:809::2010, 2800:3f0:4004:801::2010, ...\n",
      "Connecting to storage.googleapis.com (storage.googleapis.com)|2800:3f0:4004:808::2010|:443... connected.\n",
      "HTTP request sent, awaiting response... 200 OK\n",
      "Length: 28839038 (28M) [application/octet-stream]\n",
      "Saving to: ‘clientes_pedidos.csv.2’\n",
      "\n",
      "clientes_pedidos.cs 100%[===================>]  27.50M  5.57MB/s    in 5.1s    \n",
      "\n",
      "2020-11-11 23:23:49 (5.35 MB/s) - ‘clientes_pedidos.csv.2’ saved [28839038/28839038]\n",
      "\n",
      "dataset/clientes_pedidos.csv  dataset/wordcount.txt\n"
     ]
    }
   ],
   "source": [
    "!mkdir -p dataset\n",
    "!wget https://storage.googleapis.com/luizalabs-hiring-test/clientes_pedidos.csv\n",
    "!mv clientes_pedidos.csv dataset/clientes_pedidos.csv\n",
    "!ls dataset/*"
   ]
  },
  {
   "cell_type": "markdown",
   "metadata": {},
   "source": [
    "### 1. Importando bibliotecas"
   ]
  },
  {
   "cell_type": "code",
   "execution_count": 1,
   "metadata": {},
   "outputs": [],
   "source": [
    "from pyspark.sql import SparkSession\n",
    "from pyspark import SparkContext\n",
    "from pyspark.sql.types import IntegerType\n",
    "# from pyspark.sql.types import DataType, StructField, StructType\n",
    "from pyspark.sql.functions import regexp_replace\n",
    "from pyspark.sql.functions import col, lit, array, count\n",
    "from pyspark.sql.functions import months_between, countDistinct\n",
    "from pyspark.sql.functions import from_unixtime, current_date, date_format, concat, concat_ws, collect_list"
   ]
  },
  {
   "cell_type": "markdown",
   "metadata": {},
   "source": [
    "### 2. Criando session"
   ]
  },
  {
   "cell_type": "code",
   "execution_count": 2,
   "metadata": {},
   "outputs": [],
   "source": [
    "spark = SparkSession.builder \\\n",
    "    .master(\"local\") \\\n",
    "    .appName(\"Task 2\") \\\n",
    "    .getOrCreate()"
   ]
  },
  {
   "cell_type": "markdown",
   "metadata": {},
   "source": [
    "### 3. Lendo arquivo .csv"
   ]
  },
  {
   "cell_type": "code",
   "execution_count": 3,
   "metadata": {},
   "outputs": [],
   "source": [
    "df = spark.read.csv(\"dataset/clientes_pedidos.csv\", header=True)"
   ]
  },
  {
   "cell_type": "code",
   "execution_count": 4,
   "metadata": {},
   "outputs": [
    {
     "name": "stdout",
     "output_type": "stream",
     "text": [
      "+--------------------+--------------------+-----------------------+-----------+\n",
      "|       codigo_pedido|      codigo_cliente|data_nascimento_cliente|data_pedido|\n",
      "+--------------------+--------------------+-----------------------+-----------+\n",
      "|bc8b03a005d5bf742...|b07af86a4a6870737...|    1985-12-04 00:00:00| 1542974527|\n",
      "|19b0583adf75322cc...|eaaf6b26ef3b9712e...|    1979-11-14 00:00:00| 1542998573|\n",
      "|58fafb698b6d343e0...|c69f2ab5fc61484d7...|    1989-07-25 00:00:00| 1543007822|\n",
      "|79dd9f6c88ba32c97...|b4067845511997517...|    1953-12-14 00:00:00| 1542966096|\n",
      "|968806d40adf6aa8c...|7eecbc06bfec32b80...|    1985-05-03 00:00:00| 1543000756|\n",
      "|b8c6e74cf1b462489...|f240c43e82dfe3ca0...|    1980-04-16 00:00:00| 1542993637|\n",
      "|5d91ea3b69a22d55b...|ae03fddbb707cb739...|    1991-11-18 00:00:00| 1542996459|\n",
      "|5e48766af0ffdfb60...|156f291101e8ba36b...|    1974-01-04 00:00:00| 1543004877|\n",
      "|f85c3fdcb417a3431...|4cf8efefa3c5aef67...|    1985-04-18 00:00:00| 1542997957|\n",
      "|8ff2a83de50bb0695...|772b6ad0ae61400f6...|    1981-09-15 00:00:00| 1542999649|\n",
      "|c96bcb263b22c5640...|013590f6b3bcbc02c...|    1996-04-17 00:00:00| 1543004689|\n",
      "|b3a20e4bfb3799d70...|52c69e3a573310818...|    1970-11-15 00:00:00| 1542976499|\n",
      "|f87281ade12857969...|3d3ad8389c5262afd...|    1964-10-12 00:00:00| 1542999660|\n",
      "|01674a423e4eda474...|f7bc8b81f94b848ef...|    1990-06-25 00:00:00| 1542991177|\n",
      "|8728c27f783192e05...|c91b57f94638bbb53...|    1979-09-30 00:00:00| 1542994794|\n",
      "|52cef602e302c7ae5...|f83268e057fcc6e34...|    1958-05-13 00:00:00| 1542964183|\n",
      "|16fa4f9424ccc7288...|d0492d15d96771975...|    1976-05-18 00:00:00| 1543000244|\n",
      "|e0db31fffd47a2afe...|5155e0e22d6e366cd...|    1988-01-13 00:00:00| 1542981370|\n",
      "|01bdf1612fdfe231b...|5f6fd6bdd0b9e7c29...|    1993-08-10 00:00:00| 1542969498|\n",
      "|9f75beb74912623e0...|f7220e557854dcace...|    1978-11-20 00:00:00| 1542996202|\n",
      "+--------------------+--------------------+-----------------------+-----------+\n",
      "only showing top 20 rows\n",
      "\n"
     ]
    }
   ],
   "source": [
    "df.show()"
   ]
  },
  {
   "cell_type": "code",
   "execution_count": 5,
   "metadata": {},
   "outputs": [
    {
     "name": "stdout",
     "output_type": "stream",
     "text": [
      "+--------------------+--------------------+-----------------------+-----------+\n",
      "|       codigo_pedido|      codigo_cliente|data_nascimento_cliente|data_pedido|\n",
      "+--------------------+--------------------+-----------------------+-----------+\n",
      "|100e4a76bd6e2b4fb...|cd8020d629f546c47...|    2011-11-11 00:00:00| 1542937716|\n",
      "|bc3a955efe83c08ce...|cd8020d629f546c47...|    2011-11-11 00:00:00| 1543237405|\n",
      "|4d7d64ca272e57cc7...|cd8020d629f546c47...|    2011-11-11 00:00:00| 1511368290|\n",
      "|629a33a900bcc6d19...|cd8020d629f546c47...|    2011-11-11 00:00:00| 1511348448|\n",
      "|f2f9a5a58b223f682...|cd8020d629f546c47...|    2011-11-11 00:00:00| 1511345762|\n",
      "|6701780b374a46526...|cd8020d629f546c47...|    2011-11-11 00:00:00| 1511356541|\n",
      "|bea6374e4c1b47589...|cd8020d629f546c47...|    2011-11-11 00:00:00| 1511370479|\n",
      "|3f2a3bb0145e58a3c...|cd8020d629f546c47...|    2011-11-11 00:00:00| 1511363642|\n",
      "|64409e7e66a784b49...|cd8020d629f546c47...|    2011-11-11 00:00:00| 1541793478|\n",
      "|9b862a8363da3c181...|cd8020d629f546c47...|    2011-11-11 00:00:00| 1541786479|\n",
      "|98b6abb4fe3fb451d...|cd8020d629f546c47...|    2011-11-11 00:00:00| 1541746938|\n",
      "|de1675abff4df1ce0...|cd8020d629f546c47...|    2011-11-11 00:00:00| 1541739190|\n",
      "|e045c29112029043e...|cd8020d629f546c47...|    2011-11-11 00:00:00| 1541758988|\n",
      "|b44648a2f8ecf94ba...|cd8020d629f546c47...|    2011-11-11 00:00:00| 1541802402|\n",
      "|3263236a671898cb5...|cd8020d629f546c47...|    2011-11-11 00:00:00| 1541802403|\n",
      "|0d603c785288e147e...|cd8020d629f546c47...|    2011-11-11 00:00:00| 1541805506|\n",
      "|2efad9edf614b555c...|cd8020d629f546c47...|    2011-11-11 00:00:00| 1541799687|\n",
      "|36ebc8eb6e198a4fd...|cd8020d629f546c47...|    2011-11-11 00:00:00| 1541772734|\n",
      "|679269de2d5fe26fd...|cd8020d629f546c47...|    2011-11-11 00:00:00| 1541780599|\n",
      "|d995610bd33f20764...|cd8020d629f546c47...|    2011-11-11 00:00:00| 1541789619|\n",
      "+--------------------+--------------------+-----------------------+-----------+\n",
      "only showing top 20 rows\n",
      "\n"
     ]
    }
   ],
   "source": [
    "df.filter(col('codigo_cliente')== 'cd8020d629f546c47457701ff9bd1ab4').show()"
   ]
  },
  {
   "cell_type": "markdown",
   "metadata": {},
   "source": [
    "#### 3.1. Quantos clientes distintos?"
   ]
  },
  {
   "cell_type": "code",
   "execution_count": 6,
   "metadata": {},
   "outputs": [
    {
     "name": "stdout",
     "output_type": "stream",
     "text": [
      "+------------------+\n",
      "|clientes_distintos|\n",
      "+------------------+\n",
      "|            219535|\n",
      "+------------------+\n",
      "\n"
     ]
    }
   ],
   "source": [
    "df.select(countDistinct(\"codigo_cliente\").alias('clientes_distintos')).show()"
   ]
  },
  {
   "cell_type": "markdown",
   "metadata": {},
   "source": [
    "### 4. Criando colunas de idade do cliente e data do pedido"
   ]
  },
  {
   "cell_type": "code",
   "execution_count": 7,
   "metadata": {},
   "outputs": [
    {
     "name": "stdout",
     "output_type": "stream",
     "text": [
      "Quantidade de registros: 297309\n",
      "+--------------------+--------------------+-----------------------+-----------+----------------+-----+\n",
      "|       codigo_pedido|      codigo_cliente|data_nascimento_cliente|data_pedido|data_pedido_date|idade|\n",
      "+--------------------+--------------------+-----------------------+-----------+----------------+-----+\n",
      "|bc8b03a005d5bf742...|b07af86a4a6870737...|    1985-12-04 00:00:00| 1542974527|      2018-11-23|   34|\n",
      "|19b0583adf75322cc...|eaaf6b26ef3b9712e...|    1979-11-14 00:00:00| 1542998573|      2018-11-23|   40|\n",
      "|58fafb698b6d343e0...|c69f2ab5fc61484d7...|    1989-07-25 00:00:00| 1543007822|      2018-11-23|   31|\n",
      "|79dd9f6c88ba32c97...|b4067845511997517...|    1953-12-14 00:00:00| 1542966096|      2018-11-23|   66|\n",
      "|968806d40adf6aa8c...|7eecbc06bfec32b80...|    1985-05-03 00:00:00| 1543000756|      2018-11-23|   35|\n",
      "+--------------------+--------------------+-----------------------+-----------+----------------+-----+\n",
      "only showing top 5 rows\n",
      "\n"
     ]
    }
   ],
   "source": [
    "def createAgeDateColumns(df):\n",
    "    return (df.withColumn(\"data_pedido_date\", \n",
    "                          date_format(from_unixtime(col('data_pedido')), \"yyyy-MM-dd\"))\n",
    "              .withColumn('idade',\n",
    "                          (months_between(current_date(), col('data_nascimento_cliente'))/12).cast(IntegerType())))\n",
    "\n",
    "df2 = createAgeDateColumns(df)\n",
    "print(f\"Quantidade de registros: {df2.count()}\")\n",
    "df2.show(5)"
   ]
  },
  {
   "cell_type": "code",
   "execution_count": 8,
   "metadata": {},
   "outputs": [
    {
     "data": {
      "text/plain": [
       "7106"
      ]
     },
     "execution_count": 8,
     "metadata": {},
     "output_type": "execute_result"
    }
   ],
   "source": [
    "df2.filter(col('codigo_cliente')== '9ba43b1b796103b4f020481d169bfd25').count()"
   ]
  },
  {
   "cell_type": "markdown",
   "metadata": {},
   "source": [
    "### 5. Filtrando as compras realizadas nas últimas 3 Black Fridays\n",
    "Dataframe com as colunas:\n",
    "- codigo_pedido\n",
    "- codigo_cliente\n",
    "- data_nascimento_cliente\n",
    "- data_pedido\n",
    "- data_pedido_date\n",
    "- idade"
   ]
  },
  {
   "cell_type": "code",
   "execution_count": 9,
   "metadata": {},
   "outputs": [
    {
     "name": "stdout",
     "output_type": "stream",
     "text": [
      "Quantidade de registros: 76771\n",
      "Data do pedido distintos: [Row(data_pedido_date='2018-11-23'), Row(data_pedido_date='2017-11-25'), Row(data_pedido_date='2018-11-24'), Row(data_pedido_date='2017-11-24'), Row(data_pedido_date='2017-11-26'), Row(data_pedido_date='2018-11-25')]\n",
      "+--------------------+--------------------+-----------------------+-----------+----------------+-----+\n",
      "|       codigo_pedido|      codigo_cliente|data_nascimento_cliente|data_pedido|data_pedido_date|idade|\n",
      "+--------------------+--------------------+-----------------------+-----------+----------------+-----+\n",
      "|bc8b03a005d5bf742...|b07af86a4a6870737...|    1985-12-04 00:00:00| 1542974527|      2018-11-23|   34|\n",
      "|19b0583adf75322cc...|eaaf6b26ef3b9712e...|    1979-11-14 00:00:00| 1542998573|      2018-11-23|   40|\n",
      "+--------------------+--------------------+-----------------------+-----------+----------------+-----+\n",
      "only showing top 2 rows\n",
      "\n"
     ]
    }
   ],
   "source": [
    "def filterShoppingBlackFriday(df):\n",
    "    bf_date = [\"2017-11-24\",\n",
    "               \"2017-11-25\",\n",
    "               \"2017-11-26\",\n",
    "               \"2018-11-23\",\n",
    "               \"2018-11-24\",\n",
    "               \"2018-11-25\",\n",
    "               \"2019-11-29\",\n",
    "               \"2019-11-30\",\n",
    "               \"2019-12-01\"]\n",
    "    return df.filter(col(\"data_pedido_date\").isin(bf_date))\n",
    "\n",
    "dfSalesJustBF = filterShoppingBlackFriday(df2)\n",
    "print(f\"Quantidade de registros: {dfSalesJustBF.count()}\")\n",
    "print(f\"Data do pedido distintos: {dfSalesJustBF.select('data_pedido_date').distinct().collect()}\")\n",
    "dfSalesJustBF.show(2)"
   ]
  },
  {
   "cell_type": "code",
   "execution_count": 10,
   "metadata": {},
   "outputs": [
    {
     "data": {
      "text/plain": [
       "4890"
      ]
     },
     "execution_count": 10,
     "metadata": {},
     "output_type": "execute_result"
    }
   ],
   "source": [
    "dfSalesJustBF.filter(col('codigo_cliente') == '52c69e3a57331081823331c4e69d3f2e').count()"
   ]
  },
  {
   "cell_type": "markdown",
   "metadata": {},
   "source": [
    "### 6. Criando colunas com a lista dos pedidos\n",
    "A coluna lista dos pedidos é formada por um array de arrays. Com os valores de codigo do pedido e a data do pedido.\n",
    "\n",
    "Dataframe com as colunas:\n",
    "- codigo_cliente\n",
    "- lista_pedidos"
   ]
  },
  {
   "cell_type": "code",
   "execution_count": 11,
   "metadata": {},
   "outputs": [
    {
     "name": "stdout",
     "output_type": "stream",
     "text": [
      "Quantidade de registros: 219535\n",
      "+--------------------+--------------------+\n",
      "|      codigo_cliente|       lista_pedidos|\n",
      "+--------------------+--------------------+\n",
      "|000ef444f2f0b80c2...|[[fa012b08aab3a1f...|\n",
      "|0012c3e5bb4975132...|[[d6cc73d0e6c03d2...|\n",
      "|004ddc230a904ef28...|[[1052a5ae66c12c8...|\n",
      "|006a5a8c5bcb7ff8f...|[[368337a3b82d8e6...|\n",
      "|00807ca387d9eaea1...|[[70f3a91ff9970c8...|\n",
      "+--------------------+--------------------+\n",
      "only showing top 5 rows\n",
      "\n"
     ]
    },
    {
     "data": {
      "text/plain": [
       "Row(codigo_cliente='000ef444f2f0b80c2988eb7408500f3a', lista_pedidos=[['fa012b08aab3a1f50b2695926e2dd35a, 2018-11-14']])"
      ]
     },
     "execution_count": 11,
     "metadata": {},
     "output_type": "execute_result"
    }
   ],
   "source": [
    "def createOrderList(df):\n",
    "    dfStaging = df.withColumn(\"codigo_pedido_data\", \n",
    "                               array(concat(col('codigo_pedido'), \n",
    "                                            lit(', '),\n",
    "                                            col('data_pedido_date'))))\n",
    "    dfStaging = dfStaging.drop('data_nascimento_cliente', \n",
    "                               'data_pedido', \n",
    "                               'codigo_pedido',\n",
    "                               'idade')\n",
    "    dfEnd = dfStaging.groupBy('codigo_cliente').agg(collect_list(col('codigo_pedido_data')).alias('lista_pedidos'))\n",
    "    return dfEnd\n",
    "\n",
    "dfOrderList = createOrderList(df2)\n",
    "print(f\"Quantidade de registros: {dfOrderList.count()}\")\n",
    "dfOrderList.show(5)\n",
    "dfOrderList.first()"
   ]
  },
  {
   "cell_type": "markdown",
   "metadata": {},
   "source": [
    "### 7. Filtrar clientes com mais de duas compras nos dias da Black Friday\n",
    "\n",
    "Dataframe com as colunas:\n",
    "- codigo_cliente\n",
    "- numero_pedidos"
   ]
  },
  {
   "cell_type": "code",
   "execution_count": 12,
   "metadata": {},
   "outputs": [
    {
     "name": "stdout",
     "output_type": "stream",
     "text": [
      "Quantidade de registros: 606\n",
      "Quantidade de registros distintos: 606\n",
      "+--------------------+\n",
      "|      codigo_cliente|\n",
      "+--------------------+\n",
      "|52c69e3a573310818...|\n",
      "|cede469d4e8b97c05...|\n",
      "|9ba43b1b796103b4f...|\n",
      "|741a1bc4411188ed7...|\n",
      "|693f89ff05b3b8d34...|\n",
      "+--------------------+\n",
      "only showing top 5 rows\n",
      "\n"
     ]
    }
   ],
   "source": [
    "def filterCustomerOrders(df):\n",
    "    dfStaging = (df.groupBy(col('codigo_cliente')) \n",
    "                   .agg(count('data_pedido').alias('numero_pedidos'))\n",
    "                   .orderBy(\"numero_pedidos\", ascending=False))\n",
    "    dfEnd = dfStaging.filter(dfStaging.numero_pedidos > 2)\n",
    "    return dfEnd\n",
    "\n",
    "dfClientTwoOrders = filterCustomerOrders(dfSalesJustBF)\n",
    "dfClientTwoOrders = dfClientTwoOrders.drop('numero_pedidos')\n",
    "print(f\"Quantidade de registros: {dfClientTwoOrders.count()}\")\n",
    "print(f\"Quantidade de registros distintos: {dfClientTwoOrders.select('codigo_cliente').distinct().count()}\")\n",
    "dfClientTwoOrders.show(5)"
   ]
  },
  {
   "cell_type": "code",
   "execution_count": 13,
   "metadata": {},
   "outputs": [
    {
     "data": {
      "text/plain": [
       "Row(codigo_cliente='52c69e3a57331081823331c4e69d3f2e')"
      ]
     },
     "execution_count": 13,
     "metadata": {},
     "output_type": "execute_result"
    }
   ],
   "source": [
    "dfClientTwoOrders.first()"
   ]
  },
  {
   "cell_type": "markdown",
   "metadata": {},
   "source": [
    "### 8. Quantidade de todos os pedidos\n",
    "\n",
    "Dataframe com as colunas:\n",
    "- codigo_cliente\n",
    "- numero_pedidos"
   ]
  },
  {
   "cell_type": "code",
   "execution_count": 14,
   "metadata": {},
   "outputs": [
    {
     "name": "stdout",
     "output_type": "stream",
     "text": [
      "Quantidade de registros: 4741\n",
      "Quantidade de registros distintos: 4741\n",
      "+--------------------+--------------+\n",
      "|      codigo_cliente|numero_pedidos|\n",
      "+--------------------+--------------+\n",
      "|52c69e3a573310818...|         11004|\n",
      "|9ba43b1b796103b4f...|          7106|\n",
      "|cede469d4e8b97c05...|          6699|\n",
      "|741a1bc4411188ed7...|          2524|\n",
      "|693f89ff05b3b8d34...|          2356|\n",
      "+--------------------+--------------+\n",
      "only showing top 5 rows\n",
      "\n"
     ]
    }
   ],
   "source": [
    "def countOrders(df):\n",
    "    dfEnd = (df.groupBy(col('codigo_cliente')) \n",
    "                   .agg(count('data_pedido').alias('numero_pedidos'))\n",
    "                   .orderBy(\"numero_pedidos\", ascending=False))\n",
    "    return dfEnd\n",
    "\n",
    "dfClientCountOrders = filterCustomerOrders(df2)\n",
    "print(f\"Quantidade de registros: {dfClientCountOrders.count()}\")\n",
    "print(f\"Quantidade de registros distintos: {dfClientCountOrders.select('codigo_cliente').distinct().count()}\")\n",
    "dfClientCountOrders.show(5)"
   ]
  },
  {
   "cell_type": "markdown",
   "metadata": {},
   "source": [
    "### 8. Filtrar clientes que são menores de 30 anos e compraram na Black Friday"
   ]
  },
  {
   "cell_type": "code",
   "execution_count": 15,
   "metadata": {},
   "outputs": [
    {
     "name": "stdout",
     "output_type": "stream",
     "text": [
      "Quantidade de registros: 9997\n",
      "Quantidade de clientes distintos: 9997\n",
      "+--------------------+-----+\n",
      "|      codigo_cliente|idade|\n",
      "+--------------------+-----+\n",
      "|dea0b14cd8340da83...|   26|\n",
      "|623f93cc06e99a3ab...|   24|\n",
      "+--------------------+-----+\n",
      "only showing top 2 rows\n",
      "\n"
     ]
    }
   ],
   "source": [
    "def filterAgeUnderThirty(df):\n",
    "    dfStaging = df.dropDuplicates(['codigo_cliente'])\n",
    "    dfStaging =  dfStaging.filter(df.idade < 30)\n",
    "    dfEnd = dfStaging.select(\"codigo_cliente\", \"idade\")\n",
    "    return dfEnd\n",
    "\n",
    "dfUnderThirty = filterAgeUnderThirty(dfSalesJustBF)\n",
    "print(f\"Quantidade de registros: {dfUnderThirty.count()}\")\n",
    "print(f\"Quantidade de clientes distintos: {dfUnderThirty.select('codigo_cliente').distinct().count()}\")\n",
    "\n",
    "dfUnderThirty.show(2)"
   ]
  },
  {
   "cell_type": "markdown",
   "metadata": {},
   "source": [
    "### 9. Juntando os dados"
   ]
  },
  {
   "cell_type": "code",
   "execution_count": 22,
   "metadata": {},
   "outputs": [],
   "source": [
    "def joinDataframes(dfOrders, dfCount, dfOrdersList, dfAge):\n",
    "    innerJoinAgeOrders = dfOrders.join(dfCount, \n",
    "                                    [\"codigo_cliente\"],\n",
    "                                    \"inner\")\n",
    "    innerJoinStaging = innerJoinAgeOrders.join(dfOrdersList, \n",
    "                                    [\"codigo_cliente\"],\n",
    "                                    \"inner\")\n",
    "    innerJoinEnd = innerJoinStaging.join(dfAge, \n",
    "                                           [\"codigo_cliente\"],\n",
    "                                           \"inner\")\n",
    "    return innerJoinEnd"
   ]
  },
  {
   "cell_type": "code",
   "execution_count": 23,
   "metadata": {},
   "outputs": [],
   "source": [
    "dfResult = joinDataframes(dfClientTwoOrders, dfClientCountOrders, dfOrderList, dfUnderThirty)"
   ]
  },
  {
   "cell_type": "code",
   "execution_count": 24,
   "metadata": {},
   "outputs": [
    {
     "data": {
      "text/plain": [
       "117"
      ]
     },
     "execution_count": 24,
     "metadata": {},
     "output_type": "execute_result"
    }
   ],
   "source": [
    "dfResult.count()"
   ]
  },
  {
   "cell_type": "code",
   "execution_count": 26,
   "metadata": {},
   "outputs": [
    {
     "name": "stdout",
     "output_type": "stream",
     "text": [
      "+--------------------+--------------+--------------------+-----+\n",
      "|      codigo_cliente|numero_pedidos|       lista_pedidos|idade|\n",
      "+--------------------+--------------+--------------------+-----+\n",
      "|9ba43b1b796103b4f...|          7106|[[63280517b0d1aa2...|   19|\n",
      "|741a1bc4411188ed7...|          2524|[[422c2b8ae5b39c8...|   13|\n",
      "|693f89ff05b3b8d34...|          2356|[[a6dfc8bdda0f99e...|   12|\n",
      "|9436b0e2e66029690...|          1584|[[3558ea79905ec1a...|   11|\n",
      "|a18363603cedb08e9...|           920|[[3e575ee5a1554fe...|   28|\n",
      "|cd8020d629f546c47...|           421|[[4d7d64ca272e57c...|    9|\n",
      "|f17149a5e4581fe1a...|           407|[[0c7892ca300bd21...|    9|\n",
      "|909a27f471f41681b...|           221|[[60cf7dcb785c9d5...|   16|\n",
      "|f5ae9dabf82378781...|           151|[[06e70d01f1087d4...|   15|\n",
      "|18d6d2ac14593d9a6...|           112|[[15e668c90e8926c...|   27|\n",
      "|6e507c74ff1053a4e...|            44|[[2188ca275b5e828...|   20|\n",
      "|c2be12f7afe1673f3...|            39|[[d1205e9d5da8a22...|   20|\n",
      "|337a53330d059a443...|            28|[[2d0db88f8ace9c7...|   15|\n",
      "|792b46c2f93317f07...|            12|[[6e5fab78fe82893...|    6|\n",
      "|906711fbc9e07369c...|             9|[[aaf66f12e37aec6...|   22|\n",
      "|d194e99a82ddbd832...|             8|[[cd2fb7ca6bdc37e...|   22|\n",
      "|785ef8e8c50c4c31d...|             7|[[d4a7541a1df79a1...|   23|\n",
      "|176873d5750b68e49...|             7|[[3af93024bff8679...|   20|\n",
      "|dd3bd101bcb11d251...|             6|[[b34c1d3efabfb38...|   24|\n",
      "|104d0199aeacb684b...|             6|[[54221e1f7458c71...|   23|\n",
      "+--------------------+--------------+--------------------+-----+\n",
      "only showing top 20 rows\n",
      "\n"
     ]
    }
   ],
   "source": [
    "dfResult = dfResult.orderBy(\"numero_pedidos\", ascending=False)\n",
    "dfResult.show()"
   ]
  },
  {
   "cell_type": "code",
   "execution_count": 27,
   "metadata": {},
   "outputs": [],
   "source": [
    "dfResultToCSV = dfResult.withColumn(\"lista_pedidos\", dfResult['lista_pedidos'].cast(\"string\"))"
   ]
  },
  {
   "cell_type": "code",
   "execution_count": 28,
   "metadata": {},
   "outputs": [
    {
     "name": "stdout",
     "output_type": "stream",
     "text": [
      "+--------------------+--------------+--------------------+-----+\n",
      "|      codigo_cliente|numero_pedidos|       lista_pedidos|idade|\n",
      "+--------------------+--------------+--------------------+-----+\n",
      "|9ba43b1b796103b4f...|          7106|[[63280517b0d1aa2...|   19|\n",
      "|741a1bc4411188ed7...|          2524|[[422c2b8ae5b39c8...|   13|\n",
      "|693f89ff05b3b8d34...|          2356|[[a6dfc8bdda0f99e...|   12|\n",
      "|9436b0e2e66029690...|          1584|[[3558ea79905ec1a...|   11|\n",
      "|a18363603cedb08e9...|           920|[[3e575ee5a1554fe...|   28|\n",
      "|cd8020d629f546c47...|           421|[[4d7d64ca272e57c...|    9|\n",
      "|f17149a5e4581fe1a...|           407|[[0c7892ca300bd21...|    9|\n",
      "|909a27f471f41681b...|           221|[[60cf7dcb785c9d5...|   16|\n",
      "|f5ae9dabf82378781...|           151|[[06e70d01f1087d4...|   15|\n",
      "|18d6d2ac14593d9a6...|           112|[[15e668c90e8926c...|   27|\n",
      "|6e507c74ff1053a4e...|            44|[[2188ca275b5e828...|   20|\n",
      "|c2be12f7afe1673f3...|            39|[[d1205e9d5da8a22...|   20|\n",
      "|337a53330d059a443...|            28|[[2d0db88f8ace9c7...|   15|\n",
      "|792b46c2f93317f07...|            12|[[6e5fab78fe82893...|    6|\n",
      "|906711fbc9e07369c...|             9|[[aaf66f12e37aec6...|   22|\n",
      "|d194e99a82ddbd832...|             8|[[cd2fb7ca6bdc37e...|   22|\n",
      "|785ef8e8c50c4c31d...|             7|[[d4a7541a1df79a1...|   23|\n",
      "|176873d5750b68e49...|             7|[[3af93024bff8679...|   20|\n",
      "|104d0199aeacb684b...|             6|[[54221e1f7458c71...|   23|\n",
      "|dd3bd101bcb11d251...|             6|[[b34c1d3efabfb38...|   24|\n",
      "+--------------------+--------------+--------------------+-----+\n",
      "only showing top 20 rows\n",
      "\n"
     ]
    }
   ],
   "source": [
    "dfResultToCSV.show()"
   ]
  },
  {
   "cell_type": "code",
   "execution_count": 29,
   "metadata": {},
   "outputs": [],
   "source": [
    "dfResultToCSV.repartition(1).write.csv('result/task2', mode='overwrite', header=True)"
   ]
  },
  {
   "cell_type": "code",
   "execution_count": null,
   "metadata": {},
   "outputs": [],
   "source": []
  }
 ],
 "metadata": {
  "kernelspec": {
   "display_name": "Python 3",
   "language": "python",
   "name": "python3"
  },
  "language_info": {
   "codemirror_mode": {
    "name": "ipython",
    "version": 3
   },
   "file_extension": ".py",
   "mimetype": "text/x-python",
   "name": "python",
   "nbconvert_exporter": "python",
   "pygments_lexer": "ipython3",
   "version": "3.6.10"
  }
 },
 "nbformat": 4,
 "nbformat_minor": 4
}
