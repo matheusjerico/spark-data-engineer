{
 "cells": [
  {
   "cell_type": "markdown",
   "metadata": {},
   "source": [
    "### Task 1\n",
    "Leia o arquivo de texto ​ wordcount.txt, ​ e conte as palavras que contém até 10 letras. Conte também quantas palavras com mais de 10 letras existem no texto.\n",
    "Dataset: ​ https://storage.googleapis.com/luizalabs-hiring-test/wordcount.txt \n",
    "        \n",
    "Exemplo do dataset final:\n",
    "\n",
    "[('two', 2),\n",
    "\n",
    "('behold', 1),\n",
    "\n",
    "('itself', 3),\n",
    "\n",
    "(‘MAIORES QUE 10’, 3)]"
   ]
  },
  {
   "cell_type": "markdown",
   "metadata": {},
   "source": [
    "#### 0. Baixar arquivo para local"
   ]
  },
  {
   "cell_type": "code",
   "execution_count": 19,
   "metadata": {},
   "outputs": [
    {
     "name": "stdout",
     "output_type": "stream",
     "text": [
      "--2020-11-11 21:41:20--  https://storage.googleapis.com/luizalabs-hiring-test/wordcount.txt\n",
      "Resolving storage.googleapis.com (storage.googleapis.com)... 2800:3f0:4004:801::2010, 2800:3f0:4004:800::2010, 2800:3f0:4004:808::2010, ...\n",
      "Connecting to storage.googleapis.com (storage.googleapis.com)|2800:3f0:4004:801::2010|:443... connected.\n",
      "HTTP request sent, awaiting response... 200 OK\n",
      "Length: 18436 (18K) [text/plain]\n",
      "Saving to: ‘wordcount.txt’\n",
      "\n",
      "wordcount.txt       100%[===================>]  18.00K  --.-KB/s    in 0.03s   \n",
      "\n",
      "2020-11-11 21:41:20 (575 KB/s) - ‘wordcount.txt’ saved [18436/18436]\n",
      "\n",
      "dataset/wordcount.txt\n"
     ]
    }
   ],
   "source": [
    "!mkdir -p dataset\n",
    "!wget https://storage.googleapis.com/luizalabs-hiring-test/wordcount.txt\n",
    "!mv wordcount.txt dataset/wordcount.txt\n",
    "!ls dataset/*"
   ]
  },
  {
   "cell_type": "markdown",
   "metadata": {},
   "source": [
    "#### 1. Importando bibliotecas"
   ]
  },
  {
   "cell_type": "code",
   "execution_count": 9,
   "metadata": {},
   "outputs": [],
   "source": [
    "from pyspark.sql import SparkSession\n",
    "from pyspark import SparkContext\n",
    "from pyspark.sql.functions import regexp_replace\n",
    "from pyspark.sql.functions import split\n",
    "from pyspark.sql.functions import explode\n",
    "from pyspark.sql.functions import desc\n",
    "from pyspark.sql.functions import col\n",
    "from pyspark.sql.functions import length\n",
    "from pyspark.sql.functions import trim\n",
    "from pyspark.sql.functions import lower"
   ]
  },
  {
   "cell_type": "markdown",
   "metadata": {},
   "source": [
    "#### 2. Criando session"
   ]
  },
  {
   "cell_type": "code",
   "execution_count": 10,
   "metadata": {},
   "outputs": [],
   "source": [
    "spark = SparkSession.builder \\\n",
    "    .master(\"local\") \\\n",
    "    .appName(\"Task 1\") \\\n",
    "    .getOrCreate()"
   ]
  },
  {
   "cell_type": "markdown",
   "metadata": {},
   "source": [
    "#### 3. Lendo arquivo .txt"
   ]
  },
  {
   "cell_type": "code",
   "execution_count": 11,
   "metadata": {},
   "outputs": [],
   "source": [
    "def removePunctuation(column):\n",
    "    return trim(lower(regexp_replace(column, '[^\\sa-zA-Z0-9]', ''))).alias('value')"
   ]
  },
  {
   "cell_type": "code",
   "execution_count": 12,
   "metadata": {},
   "outputs": [],
   "source": [
    "df = spark.read.text(\"dataset/wordcount.txt\").select(removePunctuation(col('value')))"
   ]
  },
  {
   "cell_type": "code",
   "execution_count": 13,
   "metadata": {},
   "outputs": [
    {
     "data": {
      "text/plain": [
       "15"
      ]
     },
     "execution_count": 13,
     "metadata": {},
     "output_type": "execute_result"
    }
   ],
   "source": [
    "df.count()"
   ]
  },
  {
   "cell_type": "code",
   "execution_count": 14,
   "metadata": {},
   "outputs": [
    {
     "name": "stdout",
     "output_type": "stream",
     "text": [
      "+--------------------------------------------------------------------------------------------------------------------------------------------------------------------------------------------------------------------------------------------------------------------------------------------------------------------------------------------------------------------------------------------------------------------------------------------------------------------------------------------------------------------------------------------------------------------------------------------------------------------------------------------------------------------------------------------------------------------------------------------------------------------------------------------------------------------------------------------------------------------------------------------------------------------------------------------------------------------------------------------------------------------------------------------------------------------------------------------------------------------------------------------------------------------------------------------------------------------------------------------------------------------------------------------------------------------------------------------------------------------------------------------------------------------------------------------------------------------------------------------------------------------------------------------------------------------------------------------------------------------------------------------------------------------------------------------------------------------------------------------------------------------------------------------------------------------------------------------------------------------------------------------------------------------------------------------------------------------------------------------------------------------------------------------------------------------------------------------------------------------------------------------------------------------------------------------------------------------------------------------------------------------------------------------------------------------------------------------------------------------------------------------------------------------------------------------------------------------------------------------------------------------------------------------------------------------------------------------------------------------------------------------------------------------------------------------------------------------------------------------------------------------------------------------------------------------------------------------------------------------------------------------------------------------------------------------------------------------------------------------------------------------------------------------------------------------------------------------------------------------------------------------------------------------------------------------------------------------------------------------------------------------------------------------------------------------------------------------------------------------------------------------------+\n",
      "|value                                                                                                                                                                                                                                                                                                                                                                                                                                                                                                                                                                                                                                                                                                                                                                                                                                                                                                                                                                                                                                                                                                                                                                                                                                                                                                                                                                                                                                                                                                                                                                                                                                                                                                                                                                                                                                                                                                                                                                                                                                                                                                                                                                                                                                                                                                                                                                                                                                                                                                                                                                                                                                                                                                                                                                                                                                                                                                                                                                                                                                                                                                                                                                                                                                                                                                                                                                                             |\n",
      "+--------------------------------------------------------------------------------------------------------------------------------------------------------------------------------------------------------------------------------------------------------------------------------------------------------------------------------------------------------------------------------------------------------------------------------------------------------------------------------------------------------------------------------------------------------------------------------------------------------------------------------------------------------------------------------------------------------------------------------------------------------------------------------------------------------------------------------------------------------------------------------------------------------------------------------------------------------------------------------------------------------------------------------------------------------------------------------------------------------------------------------------------------------------------------------------------------------------------------------------------------------------------------------------------------------------------------------------------------------------------------------------------------------------------------------------------------------------------------------------------------------------------------------------------------------------------------------------------------------------------------------------------------------------------------------------------------------------------------------------------------------------------------------------------------------------------------------------------------------------------------------------------------------------------------------------------------------------------------------------------------------------------------------------------------------------------------------------------------------------------------------------------------------------------------------------------------------------------------------------------------------------------------------------------------------------------------------------------------------------------------------------------------------------------------------------------------------------------------------------------------------------------------------------------------------------------------------------------------------------------------------------------------------------------------------------------------------------------------------------------------------------------------------------------------------------------------------------------------------------------------------------------------------------------------------------------------------------------------------------------------------------------------------------------------------------------------------------------------------------------------------------------------------------------------------------------------------------------------------------------------------------------------------------------------------------------------------------------------------------------------------------------------+\n",
      "|hendrerit montes purus luctus dictum est mattis est phasellus dignissim rhoncus cubilia sit nunc at interdum vivamus luctus ante ac amet elementum congue justo eget egestas vitae per lacus sociis purus quisque luctus eleifend inceptos condimentum etiam vel augue vivamus proin eget placerat conubia odio inceptos feugiat etiam venenatis class lacus ultrices convallis aenean diam donec in sociis neque ac dignissim at ultrices nisl semper netus cubilia nunc ante porttitor aliquet proin eros viverra sodales netus integer auctor tortor ultricies cubilia netus posuere ipsum quam montes sociosqu vivamus condimentum in lectus nascetur eu etiam nec tempor posuere sagittis rutrum luctus facilisis feugiat turpis platea ut eros porttitor viverra ligula ipsum etiam placerat elementum sem semper nec fringilla dictumst eget sit malesuada sagittis arcu justo cum odio ante lectus potenti nibh amet vel netus penatibus vivamus rutrum orci sollicitudin commodo placerat nulla morbi pulvinar conubia sodales magnis massa natoque sem faucibus suspendisse tortor a scelerisque dapibus montes integer volutpat in facilisi fermentum nisi nisi egestas sapien tempor cubilia dolor donec metus placerat laoreet metus mi pharetra vehicula volutpat ante montes suscipit nascetur velit ac facilisi habitant interdum litora vestibulum dolor quisque aenean velit curae nec ullamcorper dui quam proin convallis urna quam dictumst mi ad tristique nunc porttitor sociis pede amet etiam nullam ligula eu curae interdum elementum varius justo vitae aliquam porta aliquam sociis non rhoncus vestibulum netus cras quisque pretium consectetuer hac orci egestas aliquam nec ultrices odio vivamus ultricies blandit hymenaeos diam in convallis suscipit sociis per tellus egestas enim tempus vivamus euismod platea per tincidunt litora nisl cursus suspendisse magnis ut facilisis eros et lacinia arcu dis faucibus potenti ultricies ac integer mus dictumst lectus cursus sociosqu odio accumsan rutrum ac nec tristique aliquet tempus sit nascetur massa tempus montes fermentum eleifend torquent cum torquent morbi eleifend vel purus diam vel habitasse nibh primis rutrum scelerisque tristique penatibus lectus mi litora tempus sapien ullamcorper venenatis potenti ipsum elit convallis sem bibendum habitant torquent rutrum eros habitasse leo semper taciti ullamcorper magna urna imperdiet erat leo neque fermentum parturient                                                                                                                                                                                                                                                                                                                                                                                                                                                                                                                                                                                                                                                                                                                                                                                                                                                                                                            |\n",
      "|                                                                                                                                                                                                                                                                                                                                                                                                                                                                                                                                                                                                                                                                                                                                                                                                                                                                                                                                                                                                                                                                                                                                                                                                                                                                                                                                                                                                                                                                                                                                                                                                                                                                                                                                                                                                                                                                                                                                                                                                                                                                                                                                                                                                                                                                                                                                                                                                                                                                                                                                                                                                                                                                                                                                                                                                                                                                                                                                                                                                                                                                                                                                                                                                                                                                                                                                                                                                  |\n",
      "|aliquam facilisis metus ligula mi mauris nibh suscipit sollicitudin dui fusce eget lorem porta nulla habitant magnis eu urna sed praesent luctus sapien facilisis bibendum natoque curae nullam odio morbi venenatis odio sociis posuere tincidunt et bibendum eu habitant sociis malesuada netus viverra fusce ridiculus quisque felis tempor torquent senectus ullamcorper suspendisse ut venenatis scelerisque mollis lobortis sapien hac sollicitudin leo dolor fermentum lacinia eleifend adipiscing iaculis taciti diam integer curae ullamcorper ultricies erat consectetuer lacinia aliquam ultricies consectetuer vulputate natoque purus non platea natoque aptent faucibus a taciti malesuada dui per vitae ipsum maecenas ornare adipiscing porta neque urna odio hymenaeos urna aptent interdum laoreet non varius porttitor hac lorem fusce mus dictum vel netus condimentum ultrices habitasse mollis nec natoque natoque diam quis pede vivamus rhoncus aliquam dis nascetur sed pharetra pellentesque nunc hendrerit non hymenaeos at morbi tellus convallis lacinia suscipit sollicitudin fringilla molestie tempus nascetur placerat sagittis lectus tellus nibh ligula at pharetra dictum tempus natoque faucibus adipiscing diam scelerisque ad tellus turpis felis integer porttitor pede justo diam fringilla quisque eu accumsan sollicitudin in auctor penatibus tellus nascetur a laoreet lacinia suspendisse id fames sem aenean vehicula nunc est taciti class non faucibus amet gravida ante at consectetuer vehicula fermentum vivamus hac semper felis interdum hac faucibus luctus consequat nascetur nisl ultricies ante cubilia urna conubia urna erat facilisis                                                                                                                                                                                                                                                                                                                                                                                                                                                                                                                                                                                                                                                                                                                                                                                                                                                                                                                                                                                                                                                                                                                                                                                                                                                                                                                                                                                                                                                                                                                                                                                                                                                                                                |\n",
      "|                                                                                                                                                                                                                                                                                                                                                                                                                                                                                                                                                                                                                                                                                                                                                                                                                                                                                                                                                                                                                                                                                                                                                                                                                                                                                                                                                                                                                                                                                                                                                                                                                                                                                                                                                                                                                                                                                                                                                                                                                                                                                                                                                                                                                                                                                                                                                                                                                                                                                                                                                                                                                                                                                                                                                                                                                                                                                                                                                                                                                                                                                                                                                                                                                                                                                                                                                                                                  |\n",
      "|scelerisque dui hac maecenas dictum nisl laoreet sagittis semper platea litora maecenas per sit non curabitur consectetuer ligula hendrerit habitant nulla tellus faucibus ultrices conubia pretium congue ridiculus montes phasellus odio rutrum laoreet tristique habitasse libero lacinia egestas eros molestie dapibus donec suspendisse lectus nonummy mauris sociis platea fringilla libero dictumst fringilla massa lectus iaculis odio enim amet ligula mauris rutrum egestas curae duis arcu pellentesque taciti lacinia leo suscipit condimentum facilisis auctor tempus in bibendum ornare viverra cubilia turpis parturient sed volutpat augue volutpat ad natoque habitant fusce massa laoreet ante at ultrices semper porta iaculis id eget aptent laoreet natoque venenatis nullam sodales pede per vehicula dapibus nunc maecenas natoque sagittis magnis donec in adipiscing ridiculus sapien donec duis quisque congue pede scelerisque pellentesque feugiat lectus porta fringilla dignissim consequat dis scelerisque enim iaculis quis egestas cubilia lacus duis litora etiam tempus id dictum interdum mollis volutpat eleifend rhoncus nullam enim duis lobortis quam accumsan mauris in libero orci id consectetuer orci phasellus tempor convallis adipiscing mauris interdum donec purus vivamus risus nunc risus cras inceptos dictum maecenas mollis praesent eget egestas lorem sapien mus dui viverra ullamcorper tincidunt placerat vivamus aptent justo volutpat sit scelerisque sodales facilisis urna quisque consequat habitant ultricies porta hac ut nunc natoque pellentesque a habitant sollicitudin luctus ultrices elit hymenaeos scelerisque aliquet semper accumsan pulvinar dignissim tempus orci fermentum placerat litora class parturient purus vitae laoreet sociis et quis nam nam platea ad volutpat nostra nostra a bibendum morbi luctus a tempus lorem nullam donec purus leo auctor cum potenti sit laoreet consequat curae sagittis dictumst volutpat sollicitudin porttitor nullam orci facilisis quisque arcu mollis velit pretium quisque hymenaeos dapibus porttitor sit lectus nulla malesuada rutrum mattis praesent eleifend taciti enim sit inceptos interdum diam a nascetur pretium pede facilisi etiam tortor convallis taciti metus non nonummy diam ac enim mattis urna lorem laoreet curabitur arcu aliquet nibh praesent porttitor sapien cras conubia penatibus malesuada sit torquent ad venenatis ut morbi ligula tellus mattis molestie tincidunt varius nonummy consequat litora diam curae pharetra tempus suspendisse dapibus aliquam ridiculus placerat mattis ad nullam hendrerit mi ullamcorper et enim                                                                                                                                                                                                                                                                                                                                                                                                                                                                                                                                                                                                                                                                                                          |\n",
      "|                                                                                                                                                                                                                                                                                                                                                                                                                                                                                                                                                                                                                                                                                                                                                                                                                                                                                                                                                                                                                                                                                                                                                                                                                                                                                                                                                                                                                                                                                                                                                                                                                                                                                                                                                                                                                                                                                                                                                                                                                                                                                                                                                                                                                                                                                                                                                                                                                                                                                                                                                                                                                                                                                                                                                                                                                                                                                                                                                                                                                                                                                                                                                                                                                                                                                                                                                                                                  |\n",
      "|nascetur mollis pulvinar rhoncus est habitant erat massa aenean curae justo lacinia ut blandit hymenaeos condimentum vestibulum erat eget maecenas ante dapibus interdum laoreet volutpat est curae facilisi condimentum sollicitudin ornare commodo eleifend hac aliquam hac dui nec duis erat sodales maecenas sociosqu in maecenas dignissim duis praesent blandit libero purus nascetur dolor mauris proin ac nonummy ullamcorper eget cras sollicitudin nunc pretium tellus hymenaeos pede morbi senectus at platea porta cras vehicula montes praesent venenatis feugiat sed magna sociis venenatis curabitur tellus sociis aenean pretium praesent vel dis blandit scelerisque massa arcu venenatis imperdiet convallis vivamus at purus erat sagittis urna ad egestas curabitur platea urna egestas aptent parturient congue eros semper pellentesque fermentum ornare nibh amet ornare urna velit torquent hendrerit consequat dis primis nec class montes quam enim proin sociis rhoncus elit dignissim taciti vitae a justo dolor risus nascetur cubilia facilisis purus praesent a mollis mauris arcu lectus eros dictumst habitant rutrum diam laoreet aliquet luctus augue elit tellus vel euismod sociis urna dapibus morbi suspendisse ullamcorper rhoncus rhoncus ligula mattis a condimentum sociosqu arcu nisi porta fringilla nulla tempus sollicitudin fames sapien convallis dapibus vehicula hymenaeos senectus fringilla odio potenti egestas dis purus quam semper nonummy ad nam luctus ultrices sapien rhoncus amet fermentum elit nullam dolor id dis morbi viverra duis porta placerat quisque amet nam consequat hendrerit dui dapibus rutrum amet curabitur eget pretium dui mollis eros sem est enim aliquam elit                                                                                                                                                                                                                                                                                                                                                                                                                                                                                                                                                                                                                                                                                                                                                                                                                                                                                                                                                                                                                                                                                                                                                                                                                                                                                                                                                                                                                                                                                                                                                                                                                                                 |\n",
      "|                                                                                                                                                                                                                                                                                                                                                                                                                                                                                                                                                                                                                                                                                                                                                                                                                                                                                                                                                                                                                                                                                                                                                                                                                                                                                                                                                                                                                                                                                                                                                                                                                                                                                                                                                                                                                                                                                                                                                                                                                                                                                                                                                                                                                                                                                                                                                                                                                                                                                                                                                                                                                                                                                                                                                                                                                                                                                                                                                                                                                                                                                                                                                                                                                                                                                                                                                                                                  |\n",
      "|aptent malesuada dui pharetra fermentum magna arcu suspendisse dis non nec posuere sit habitant habitant hendrerit dictum suspendisse dolor nostra accumsan leo integer blandit litora vehicula tempus facilisis volutpat ornare tellus lobortis platea cursus hendrerit lacus natoque etiam quisque leo ornare non tellus eget phasellus primis arcu habitant nullam rhoncus varius torquent penatibus magnis consectetuer phasellus litora nec eleifend feugiat netus venenatis fringilla interdum laoreet dui orci lacus ullamcorper dui molestie curabitur at duis et conubia lacus vivamus vulputate vestibulum donec ante duis ac tortor taciti sem phasellus ut cursus tortor porttitor condimentum hendrerit enim at fermentum egestas mollis porttitor ullamcorper ipsum duis aliquet dictum nascetur molestie habitant convallis nisi etiam odio dictum eros eu habitasse sodales semper augue justo egestas mollis lobortis nascetur suscipit sollicitudin malesuada turpis montes orci eleifend felis eu integer cursus vulputate ullamcorper viverra a lacinia dis ullamcorper et eu porta varius potenti nascetur dis vitae odio tortor ultricies vehicula laoreet pretium conubia conubia convallis rhoncus feugiat convallis molestie ipsum euismod penatibus commodo torquent mauris hymenaeos mollis sollicitudin sociosqu hendrerit vivamus rutrum hendrerit senectus massa condimentum est neque hymenaeos posuere sociosqu integer fermentum pede ullamcorper hymenaeos netus condimentum mauris eu netus quis tempor magnis ante suscipit dictum litora sodales nascetur vitae feugiat sagittis dictumst tincidunt urna sollicitudin fames dis torquent rhoncus hac orci dolor egestas ad odio est praesent justo fermentum leo pretium vivamus maecenas felis posuere suscipit condimentum dis aliquet suspendisse primis et magna molestie cum ligula pulvinar magna tempor dui pulvinar magnis nibh taciti rhoncus lorem cursus orci ante nunc leo potenti nam ultricies rhoncus class commodo nostra dapibus a aenean fames parturient nibh orci dolor aliquet hac sociosqu curabitur dis turpis luctus sagittis ipsum libero imperdiet nascetur quisque commodo eleifend commodo leo cum malesuada iaculis lectus neque eget tempus rhoncus eget duis neque curae placerat lorem elit dui sapien donec urna luctus dictum pede tristique morbi imperdiet suscipit maecenas turpis inceptos pellentesque felis tellus montes in sollicitudin per habitant torquent interdum vel nec pretium feugiat dignissim libero sodales condimentum felis vehicula eget nibh ultricies malesuada netus odio et montes class habitant metus arcu ac pellentesque quisque orci ante aenean pulvinar elementum neque vestibulum cum sem tincidunt conubia viverra aliquam tellus quisque habitant lorem pretium consectetuer nonummy et etiam in convallis senectus tempor orci aptent nullam libero vulputate quis consectetuer netus senectus mi laoreet vel vel                                                                                                                                                                                                                                                                                                                                                                                                                    |\n",
      "|                                                                                                                                                                                                                                                                                                                                                                                                                                                                                                                                                                                                                                                                                                                                                                                                                                                                                                                                                                                                                                                                                                                                                                                                                                                                                                                                                                                                                                                                                                                                                                                                                                                                                                                                                                                                                                                                                                                                                                                                                                                                                                                                                                                                                                                                                                                                                                                                                                                                                                                                                                                                                                                                                                                                                                                                                                                                                                                                                                                                                                                                                                                                                                                                                                                                                                                                                                                                  |\n",
      "|justo congue nibh vehicula dapibus porttitor risus parturient sapien pellentesque tortor consectetuer aenean aptent turpis facilisi facilisis sociis adipiscing senectus vivamus duis ridiculus habitasse integer faucibus viverra nullam torquent purus et inceptos morbi hendrerit scelerisque sodales condimentum nibh est nisl congue varius tristique pharetra consectetuer id etiam tempor imperdiet tempor facilisis erat vitae blandit curae nonummy amet inceptos conubia imperdiet cras elementum laoreet ante vel vestibulum quis bibendum ullamcorper inceptos hac leo scelerisque nascetur integer imperdiet etiam risus euismod sollicitudin senectus ridiculus enim lacinia adipiscing penatibus vel hac placerat magnis eu suspendisse enim purus habitant tempus purus rutrum inceptos porttitor montes ut sit sapien dis ridiculus pulvinar quis tempus proin ipsum tellus venenatis eu ad nisi nunc gravida habitant fames suspendisse dolor augue elementum sociis vehicula venenatis praesent venenatis consectetuer varius congue cubilia penatibus interdum luctus hendrerit curabitur elit nonummy porta non scelerisque hendrerit sed sit senectus conubia risus tempus suspendisse elit est donec orci maecenas montes etiam accumsan nisi pharetra fames inceptos cubilia a dictum semper etiam class integer accumsan penatibus non blandit diam quam lobortis eget sociosqu facilisi quisque dis egestas commodo cum curae a porta maecenas orci aptent parturient fermentum nisi eros sapien condimentum lacinia varius sed sodales habitasse vivamus in scelerisque scelerisque sociis netus nullam eleifend proin                                                                                                                                                                                                                                                                                                                                                                                                                                                                                                                                                                                                                                                                                                                                                                                                                                                                                                                                                                                                                                                                                                                                                                                                                                                                                                                                                                                                                                                                                                                                                                                                                                                                                                                                                 |\n",
      "|                                                                                                                                                                                                                                                                                                                                                                                                                                                                                                                                                                                                                                                                                                                                                                                                                                                                                                                                                                                                                                                                                                                                                                                                                                                                                                                                                                                                                                                                                                                                                                                                                                                                                                                                                                                                                                                                                                                                                                                                                                                                                                                                                                                                                                                                                                                                                                                                                                                                                                                                                                                                                                                                                                                                                                                                                                                                                                                                                                                                                                                                                                                                                                                                                                                                                                                                                                                                  |\n",
      "|volutpat mi erat lectus ultrices potenti ante cubilia posuere congue mollis duis a vitae velit nisl ipsum metus auctor ullamcorper maecenas condimentum in sollicitudin aenean turpis ut facilisi integer enim pulvinar ac integer magnis lacus venenatis enim dignissim quam curabitur platea euismod tortor vehicula sem porta dapibus tellus velit tellus neque adipiscing habitasse mus odio ultrices orci mauris ante tincidunt purus duis dapibus sit diam sem rutrum conubia torquent potenti sociosqu fermentum viverra eleifend class curae ligula varius rutrum nisl bibendum nullam commodo integer vivamus lorem egestas inceptos auctor mauris dictum posuere euismod class tellus tincidunt mi mattis diam cum facilisis cum per laoreet vestibulum odio pulvinar morbi sodales convallis mattis litora commodo interdum pharetra venenatis semper amet odio convallis proin semper nostra erat vestibulum elit per iaculis risus nostra bibendum condimentum quisque tempor fermentum blandit blandit nulla cum mus vel vitae pulvinar tempor augue ac hendrerit aliquet diam dis dolor varius inceptos cum primis tristique interdum conubia scelerisque fringilla vel metus adipiscing cras dapibus mi lobortis euismod tristique sit ullamcorper tortor pharetra nam laoreet phasellus vulputate vestibulum montes curae turpis cubilia montes enim dis praesent malesuada rhoncus odio erat vulputate purus parturient feugiat elit vel urna tristique dictum torquent arcu habitasse nonummy condimentum ut eros suspendisse dolor tortor nonummy lorem tristique hymenaeos dignissim gravida tristique adipiscing neque curabitur malesuada elementum donec et auctor nec porttitor condimentum quisque laoreet elit conubia placerat cubilia nam fermentum at inceptos mollis habitasse dictumst varius placerat sed semper accumsan amet condimentum vehicula venenatis felis aptent leo porttitor aliquet volutpat nisl sed leo suscipit urna viverra augue etiam eros libero nascetur lacus consectetuer vitae quam laoreet montes adipiscing elit magnis eros etiam a nascetur arcu fermentum                                                                                                                                                                                                                                                                                                                                                                                                                                                                                                                                                                                                                                                                                                                                                                                                                                                                                                                                                                                                                                                                                                                                                                                                                                                                           |\n",
      "|                                                                                                                                                                                                                                                                                                                                                                                                                                                                                                                                                                                                                                                                                                                                                                                                                                                                                                                                                                                                                                                                                                                                                                                                                                                                                                                                                                                                                                                                                                                                                                                                                                                                                                                                                                                                                                                                                                                                                                                                                                                                                                                                                                                                                                                                                                                                                                                                                                                                                                                                                                                                                                                                                                                                                                                                                                                                                                                                                                                                                                                                                                                                                                                                                                                                                                                                                                                                  |\n",
      "|tincidunt elementum nostra ut felis viverra diam proin placerat imperdiet in mollis sociis nunc sem hendrerit id sit porttitor metus magnis erat hendrerit senectus vivamus primis nec quis praesent orci donec neque praesent litora dui eros integer aliquam montes dapibus donec sit sagittis mollis mus netus montes morbi faucibus laoreet gravida ante erat quisque montes blandit nam class magnis feugiat ad purus leo dolor feugiat ante aliquam cum magnis velit nunc dignissim fames mattis lacinia nascetur rutrum eu vitae et aenean morbi vivamus inceptos integer eget sapien vestibulum cras quisque ridiculus vulputate dapibus odio libero cursus fringilla et vitae platea ultricies habitasse montes quisque arcu cursus mus pellentesque placerat purus curae semper a auctor vivamus tincidunt dapibus iaculis integer litora leo lectus hendrerit rutrum dolor ultricies nascetur lectus justo auctor ac litora nam lacinia habitant imperdiet turpis rhoncus id a faucibus sodales cum fames pharetra sed dolor donec praesent faucibus dui lacus aenean bibendum natoque risus at risus donec bibendum iaculis ac risus semper felis pharetra ac lobortis fusce venenatis vulputate cursus tempus pulvinar arcu volutpat convallis velit porttitor nisi natoque diam nulla laoreet etiam nascetur sociosqu dictumst dictum vel inceptos parturient id fermentum quam inceptos iaculis hendrerit sapien ridiculus ligula malesuada est adipiscing primis consequat habitasse scelerisque vivamus nostra ad sit scelerisque nascetur duis mus molestie vivamus felis auctor fermentum velit taciti sit penatibus netus vel taciti ad gravida velit enim malesuada consequat viverra turpis feugiat mus libero lorem condimentum sodales inceptos suspendisse sollicitudin rutrum habitasse nascetur interdum et potenti lectus hac praesent enim mattis suscipit tempus facilisis pulvinar a posuere diam vitae eleifend imperdiet at diam vehicula blandit turpis non interdum dui posuere porttitor volutpat ad placerat phasellus praesent sed sapien fringilla purus bibendum condimentum placerat vitae risus vestibulum accumsan consequat posuere sagittis ipsum penatibus libero quis eu nibh mollis cubilia consequat habitasse mollis ante conubia congue senectus nam penatibus nascetur aptent curae litora augue per duis sociosqu praesent arcu id orci placerat convallis sagittis hendrerit magnis sit congue congue natoque interdum praesent cursus cubilia donec montes mi risus arcu mus hymenaeos urna posuere facilisis suscipit cras potenti penatibus suspendisse purus quisque lacus suscipit inceptos habitant purus per quam condimentum aliquam id velit at vestibulum molestie faucibus interdum curae conubia maecenas neque ultricies fermentum vulputate fusce arcu sagittis massa vel sapien mattis praesent nec aliquam etiam cursus neque tellus netus nec etiam adipiscing duis vitae netus nostra parturient scelerisque ligula donec ullamcorper pede leo sodales augue blandit etiam euismod natoque leo tempus eu fusce pulvinar natoque rhoncus lorem congue etiam sapien hac montes tellus accumsan hendrerit imperdiet urna praesent feugiat suspendisse non varius molestie pede vehicula duis magnis facilisi aenean praesent eget pulvinar curae diam nonummy odio taciti cursus lorem nonummy per venenatis velit adipiscing|\n",
      "+--------------------------------------------------------------------------------------------------------------------------------------------------------------------------------------------------------------------------------------------------------------------------------------------------------------------------------------------------------------------------------------------------------------------------------------------------------------------------------------------------------------------------------------------------------------------------------------------------------------------------------------------------------------------------------------------------------------------------------------------------------------------------------------------------------------------------------------------------------------------------------------------------------------------------------------------------------------------------------------------------------------------------------------------------------------------------------------------------------------------------------------------------------------------------------------------------------------------------------------------------------------------------------------------------------------------------------------------------------------------------------------------------------------------------------------------------------------------------------------------------------------------------------------------------------------------------------------------------------------------------------------------------------------------------------------------------------------------------------------------------------------------------------------------------------------------------------------------------------------------------------------------------------------------------------------------------------------------------------------------------------------------------------------------------------------------------------------------------------------------------------------------------------------------------------------------------------------------------------------------------------------------------------------------------------------------------------------------------------------------------------------------------------------------------------------------------------------------------------------------------------------------------------------------------------------------------------------------------------------------------------------------------------------------------------------------------------------------------------------------------------------------------------------------------------------------------------------------------------------------------------------------------------------------------------------------------------------------------------------------------------------------------------------------------------------------------------------------------------------------------------------------------------------------------------------------------------------------------------------------------------------------------------------------------------------------------------------------------------------------------------------------------+\n",
      "\n"
     ]
    }
   ],
   "source": [
    "df.show(15, truncate=False)"
   ]
  },
  {
   "cell_type": "markdown",
   "metadata": {},
   "source": [
    "#### 4. Quantas linhas?"
   ]
  },
  {
   "cell_type": "code",
   "execution_count": 15,
   "metadata": {},
   "outputs": [
    {
     "data": {
      "text/plain": [
       "15"
      ]
     },
     "execution_count": 15,
     "metadata": {},
     "output_type": "execute_result"
    }
   ],
   "source": [
    "df.count()"
   ]
  },
  {
   "cell_type": "code",
   "execution_count": 16,
   "metadata": {},
   "outputs": [
    {
     "name": "stdout",
     "output_type": "stream",
     "text": [
      "+--------------------+\n",
      "|               value|\n",
      "+--------------------+\n",
      "|hendrerit montes ...|\n",
      "|                    |\n",
      "|aliquam facilisis...|\n",
      "|                    |\n",
      "|scelerisque dui h...|\n",
      "|                    |\n",
      "|nascetur mollis p...|\n",
      "|                    |\n",
      "|aptent malesuada ...|\n",
      "|                    |\n",
      "|justo congue nibh...|\n",
      "|                    |\n",
      "|volutpat mi erat ...|\n",
      "|                    |\n",
      "|tincidunt element...|\n",
      "+--------------------+\n",
      "\n"
     ]
    }
   ],
   "source": [
    "df.show()"
   ]
  },
  {
   "cell_type": "markdown",
   "metadata": {},
   "source": [
    "#### 5. Nome e tipo da coluna?"
   ]
  },
  {
   "cell_type": "code",
   "execution_count": 17,
   "metadata": {},
   "outputs": [
    {
     "data": {
      "text/plain": [
       "[('value', 'string')]"
      ]
     },
     "execution_count": 17,
     "metadata": {},
     "output_type": "execute_result"
    }
   ],
   "source": [
    "df.dtypes"
   ]
  },
  {
   "cell_type": "markdown",
   "metadata": {},
   "source": [
    "#### 6. Vendo primeiro registro completo"
   ]
  },
  {
   "cell_type": "code",
   "execution_count": 18,
   "metadata": {},
   "outputs": [
    {
     "data": {
      "text/plain": [
       "Row(value='hendrerit montes purus luctus dictum est mattis est phasellus dignissim rhoncus cubilia sit nunc at interdum vivamus luctus ante ac amet elementum congue justo eget egestas vitae per lacus sociis purus quisque luctus eleifend inceptos condimentum etiam vel augue vivamus proin eget placerat conubia odio inceptos feugiat etiam venenatis class lacus ultrices convallis aenean diam donec in sociis neque ac dignissim at ultrices nisl semper netus cubilia nunc ante porttitor aliquet proin eros viverra sodales netus integer auctor tortor ultricies cubilia netus posuere ipsum quam montes sociosqu vivamus condimentum in lectus nascetur eu etiam nec tempor posuere sagittis rutrum luctus facilisis feugiat turpis platea ut eros porttitor viverra ligula ipsum etiam placerat elementum sem semper nec fringilla dictumst eget sit malesuada sagittis arcu justo cum odio ante lectus potenti nibh amet vel netus penatibus vivamus rutrum orci sollicitudin commodo placerat nulla morbi pulvinar conubia sodales magnis massa natoque sem faucibus suspendisse tortor a scelerisque dapibus montes integer volutpat in facilisi fermentum nisi nisi egestas sapien tempor cubilia dolor donec metus placerat laoreet metus mi pharetra vehicula volutpat ante montes suscipit nascetur velit ac facilisi habitant interdum litora vestibulum dolor quisque aenean velit curae nec ullamcorper dui quam proin convallis urna quam dictumst mi ad tristique nunc porttitor sociis pede amet etiam nullam ligula eu curae interdum elementum varius justo vitae aliquam porta aliquam sociis non rhoncus vestibulum netus cras quisque pretium consectetuer hac orci egestas aliquam nec ultrices odio vivamus ultricies blandit hymenaeos diam in convallis suscipit sociis per tellus egestas enim tempus vivamus euismod platea per tincidunt litora nisl cursus suspendisse magnis ut facilisis eros et lacinia arcu dis faucibus potenti ultricies ac integer mus dictumst lectus cursus sociosqu odio accumsan rutrum ac nec tristique aliquet tempus sit nascetur massa tempus montes fermentum eleifend torquent cum torquent morbi eleifend vel purus diam vel habitasse nibh primis rutrum scelerisque tristique penatibus lectus mi litora tempus sapien ullamcorper venenatis potenti ipsum elit convallis sem bibendum habitant torquent rutrum eros habitasse leo semper taciti ullamcorper magna urna imperdiet erat leo neque fermentum parturient')"
      ]
     },
     "execution_count": 18,
     "metadata": {},
     "output_type": "execute_result"
    }
   ],
   "source": [
    "df.first()"
   ]
  },
  {
   "cell_type": "markdown",
   "metadata": {},
   "source": [
    "#### 7. Words"
   ]
  },
  {
   "cell_type": "code",
   "execution_count": 19,
   "metadata": {},
   "outputs": [],
   "source": [
    "dfWords = (df\n",
    "           .select(explode(split(df.value, ' ')).alias('word'))\n",
    "           .where(col('word') != ''))"
   ]
  },
  {
   "cell_type": "code",
   "execution_count": 20,
   "metadata": {},
   "outputs": [
    {
     "name": "stdout",
     "output_type": "stream",
     "text": [
      "+--------------------+\n",
      "|               value|\n",
      "+--------------------+\n",
      "|hendrerit montes ...|\n",
      "|                    |\n",
      "|aliquam facilisis...|\n",
      "|                    |\n",
      "|scelerisque dui h...|\n",
      "|                    |\n",
      "|nascetur mollis p...|\n",
      "|                    |\n",
      "|aptent malesuada ...|\n",
      "|                    |\n",
      "|justo congue nibh...|\n",
      "|                    |\n",
      "|volutpat mi erat ...|\n",
      "|                    |\n",
      "|tincidunt element...|\n",
      "+--------------------+\n",
      "\n"
     ]
    }
   ],
   "source": [
    "df.show()"
   ]
  },
  {
   "cell_type": "code",
   "execution_count": 21,
   "metadata": {},
   "outputs": [
    {
     "data": {
      "text/plain": [
       "15"
      ]
     },
     "execution_count": 21,
     "metadata": {},
     "output_type": "execute_result"
    }
   ],
   "source": [
    "df.count()"
   ]
  },
  {
   "cell_type": "code",
   "execution_count": 22,
   "metadata": {},
   "outputs": [
    {
     "name": "stdout",
     "output_type": "stream",
     "text": [
      "+---------+\n",
      "|     word|\n",
      "+---------+\n",
      "|hendrerit|\n",
      "|   montes|\n",
      "|    purus|\n",
      "|   luctus|\n",
      "|   dictum|\n",
      "|      est|\n",
      "|   mattis|\n",
      "|      est|\n",
      "|phasellus|\n",
      "|dignissim|\n",
      "|  rhoncus|\n",
      "|  cubilia|\n",
      "|      sit|\n",
      "|     nunc|\n",
      "|       at|\n",
      "| interdum|\n",
      "|  vivamus|\n",
      "|   luctus|\n",
      "|     ante|\n",
      "|       ac|\n",
      "+---------+\n",
      "only showing top 20 rows\n",
      "\n"
     ]
    }
   ],
   "source": [
    "dfWords.show()"
   ]
  },
  {
   "cell_type": "code",
   "execution_count": 24,
   "metadata": {},
   "outputs": [
    {
     "data": {
      "text/plain": [
       "2500"
      ]
     },
     "execution_count": 24,
     "metadata": {},
     "output_type": "execute_result"
    }
   ],
   "source": [
    "dfWords.count()"
   ]
  },
  {
   "cell_type": "code",
   "execution_count": 25,
   "metadata": {},
   "outputs": [],
   "source": [
    "def wordCount(wordListDF):\n",
    "    \"\"\"Creates a DataFrame with word counts.\n",
    "\n",
    "    Args:\n",
    "        wordListDF (DataFrame of str): A DataFrame consisting of one string column called 'word'.\n",
    "\n",
    "    Returns:\n",
    "        DataFrame of (str, int): A DataFrame containing 'word' and 'count' columns.\n",
    "    \"\"\"\n",
    "    return wordListDF.groupBy('word').count()"
   ]
  },
  {
   "cell_type": "code",
   "execution_count": 132,
   "metadata": {},
   "outputs": [],
   "source": [
    "# topWordsAndCountsDF = wordCount(dfWords).orderBy(\"count\", ascending=False)"
   ]
  },
  {
   "cell_type": "code",
   "execution_count": 26,
   "metadata": {},
   "outputs": [],
   "source": [
    "# topWordsAndCountsDF.show()"
   ]
  },
  {
   "cell_type": "code",
   "execution_count": 27,
   "metadata": {},
   "outputs": [],
   "source": [
    "# len(topWordsAndCountsDF.first()['word'])"
   ]
  },
  {
   "cell_type": "code",
   "execution_count": 28,
   "metadata": {},
   "outputs": [],
   "source": [
    "dfLength = dfWords.withColumn(\"length\", length(\"word\"))"
   ]
  },
  {
   "cell_type": "code",
   "execution_count": 29,
   "metadata": {},
   "outputs": [],
   "source": [
    "dfLength = dfWords.filter(length(col('word')) <= 10)"
   ]
  },
  {
   "cell_type": "code",
   "execution_count": 30,
   "metadata": {},
   "outputs": [
    {
     "name": "stdout",
     "output_type": "stream",
     "text": [
      "+---------+\n",
      "|     word|\n",
      "+---------+\n",
      "|hendrerit|\n",
      "|   montes|\n",
      "|    purus|\n",
      "|   luctus|\n",
      "|   dictum|\n",
      "|      est|\n",
      "|   mattis|\n",
      "|      est|\n",
      "|phasellus|\n",
      "|dignissim|\n",
      "|  rhoncus|\n",
      "|  cubilia|\n",
      "|      sit|\n",
      "|     nunc|\n",
      "|       at|\n",
      "| interdum|\n",
      "|  vivamus|\n",
      "|   luctus|\n",
      "|     ante|\n",
      "|       ac|\n",
      "+---------+\n",
      "only showing top 20 rows\n",
      "\n"
     ]
    }
   ],
   "source": [
    "dfLength.show()"
   ]
  },
  {
   "cell_type": "code",
   "execution_count": 31,
   "metadata": {},
   "outputs": [],
   "source": [
    "topWordsAndCountsDF = wordCount(dfLength).orderBy(\"count\", ascending=False)"
   ]
  },
  {
   "cell_type": "code",
   "execution_count": 33,
   "metadata": {},
   "outputs": [
    {
     "name": "stdout",
     "output_type": "stream",
     "text": [
      "+---------+-----+\n",
      "|     word|count|\n",
      "+---------+-----+\n",
      "| nascetur|   25|\n",
      "|   montes|   22|\n",
      "|  laoreet|   22|\n",
      "|  vivamus|   22|\n",
      "|    etiam|   21|\n",
      "|    purus|   21|\n",
      "|hendrerit|   21|\n",
      "| praesent|   21|\n",
      "|  quisque|   21|\n",
      "| habitant|   21|\n",
      "|     diam|   20|\n",
      "|fermentum|   20|\n",
      "|   tempus|   20|\n",
      "|   tellus|   20|\n",
      "|     odio|   20|\n",
      "|     urna|   19|\n",
      "|      sit|   19|\n",
      "|        a|   19|\n",
      "|    curae|   18|\n",
      "|     arcu|   18|\n",
      "+---------+-----+\n",
      "only showing top 20 rows\n",
      "\n",
      "None\n"
     ]
    }
   ],
   "source": [
    "print(topWordsAndCountsDF.show())"
   ]
  },
  {
   "cell_type": "code",
   "execution_count": 174,
   "metadata": {},
   "outputs": [],
   "source": [
    "dfLength = dfWords.filter(length(col('word')) > 10)"
   ]
  },
  {
   "cell_type": "code",
   "execution_count": 175,
   "metadata": {},
   "outputs": [
    {
     "data": {
      "text/plain": [
       "115"
      ]
     },
     "execution_count": 175,
     "metadata": {},
     "output_type": "execute_result"
    }
   ],
   "source": [
    "dfLength.count()"
   ]
  },
  {
   "cell_type": "code",
   "execution_count": 177,
   "metadata": {},
   "outputs": [],
   "source": [
    "newRow = spark.createDataFrame([[\"MAIORES QUE 10\", dfLength.count()]])"
   ]
  },
  {
   "cell_type": "code",
   "execution_count": 178,
   "metadata": {},
   "outputs": [
    {
     "name": "stdout",
     "output_type": "stream",
     "text": [
      "+--------------+---+\n",
      "|            _1| _2|\n",
      "+--------------+---+\n",
      "|MAIORES QUE 10|115|\n",
      "+--------------+---+\n",
      "\n"
     ]
    }
   ],
   "source": [
    "newRow.show()"
   ]
  },
  {
   "cell_type": "code",
   "execution_count": 179,
   "metadata": {},
   "outputs": [],
   "source": [
    "appended = topWordsAndCountsDF.union(newRow)\n"
   ]
  },
  {
   "cell_type": "code",
   "execution_count": 181,
   "metadata": {
    "collapsed": true
   },
   "outputs": [
    {
     "data": {
      "text/plain": [
       "[Row(word='nascetur', count=25),\n",
       " Row(word='laoreet', count=22),\n",
       " Row(word='vivamus', count=22),\n",
       " Row(word='montes', count=22),\n",
       " Row(word='hendrerit', count=21),\n",
       " Row(word='quisque', count=21),\n",
       " Row(word='praesent', count=21),\n",
       " Row(word='purus', count=21),\n",
       " Row(word='etiam', count=21),\n",
       " Row(word='habitant', count=21),\n",
       " Row(word='odio', count=20),\n",
       " Row(word='fermentum', count=20),\n",
       " Row(word='diam', count=20),\n",
       " Row(word='tempus', count=20),\n",
       " Row(word='tellus', count=20),\n",
       " Row(word='sit', count=19),\n",
       " Row(word='urna', count=19),\n",
       " Row(word='a', count=19),\n",
       " Row(word='curae', count=18),\n",
       " Row(word='interdum', count=18),\n",
       " Row(word='placerat', count=18),\n",
       " Row(word='arcu', count=18),\n",
       " Row(word='ante', count=18),\n",
       " Row(word='rhoncus', count=18),\n",
       " Row(word='vel', count=18),\n",
       " Row(word='inceptos', count=18),\n",
       " Row(word='venenatis', count=18),\n",
       " Row(word='sapien', count=18),\n",
       " Row(word='orci', count=18),\n",
       " Row(word='duis', count=18),\n",
       " Row(word='porttitor', count=17),\n",
       " Row(word='netus', count=17),\n",
       " Row(word='natoque', count=17),\n",
       " Row(word='enim', count=17),\n",
       " Row(word='donec', count=17),\n",
       " Row(word='integer', count=17),\n",
       " Row(word='mollis', count=17),\n",
       " Row(word='dapibus', count=17),\n",
       " Row(word='convallis', count=17),\n",
       " Row(word='leo', count=17),\n",
       " Row(word='dis', count=17),\n",
       " Row(word='sociis', count=17),\n",
       " Row(word='rutrum', count=17),\n",
       " Row(word='vitae', count=16),\n",
       " Row(word='dui', count=16),\n",
       " Row(word='egestas', count=16),\n",
       " Row(word='conubia', count=16),\n",
       " Row(word='semper', count=16),\n",
       " Row(word='eget', count=16),\n",
       " Row(word='magnis', count=15),\n",
       " Row(word='dolor', count=15),\n",
       " Row(word='hac', count=15),\n",
       " Row(word='vehicula', count=15),\n",
       " Row(word='litora', count=15),\n",
       " Row(word='lectus', count=15),\n",
       " Row(word='nec', count=15),\n",
       " Row(word='dictum', count=15),\n",
       " Row(word='facilisis', count=15),\n",
       " Row(word='cubilia', count=15),\n",
       " Row(word='volutpat', count=14),\n",
       " Row(word='in', count=14),\n",
       " Row(word='eros', count=14),\n",
       " Row(word='eu', count=14),\n",
       " Row(word='ad', count=14),\n",
       " Row(word='sodales', count=14),\n",
       " Row(word='pulvinar', count=14),\n",
       " Row(word='ac', count=14),\n",
       " Row(word='maecenas', count=14),\n",
       " Row(word='morbi', count=14),\n",
       " Row(word='at', count=14),\n",
       " Row(word='aliquam', count=14),\n",
       " Row(word='habitasse', count=14),\n",
       " Row(word='et', count=14),\n",
       " Row(word='adipiscing', count=14),\n",
       " Row(word='sagittis', count=13),\n",
       " Row(word='hymenaeos', count=13),\n",
       " Row(word='lorem', count=13),\n",
       " Row(word='penatibus', count=13),\n",
       " Row(word='non', count=13),\n",
       " Row(word='erat', count=13),\n",
       " Row(word='malesuada', count=13),\n",
       " Row(word='ultricies', count=13),\n",
       " Row(word='nullam', count=13),\n",
       " Row(word='taciti', count=13),\n",
       " Row(word='porta', count=13),\n",
       " Row(word='suscipit', count=13),\n",
       " Row(word='cum', count=13),\n",
       " Row(word='luctus', count=13),\n",
       " Row(word='feugiat', count=13),\n",
       " Row(word='lacinia', count=13),\n",
       " Row(word='torquent', count=13),\n",
       " Row(word='nunc', count=13),\n",
       " Row(word='eleifend', count=13),\n",
       " Row(word='viverra', count=13),\n",
       " Row(word='elit', count=13),\n",
       " Row(word='velit', count=12),\n",
       " Row(word='per', count=12),\n",
       " Row(word='fringilla', count=12),\n",
       " Row(word='ligula', count=12),\n",
       " Row(word='vestibulum', count=12),\n",
       " Row(word='neque', count=12),\n",
       " Row(word='congue', count=12),\n",
       " Row(word='aenean', count=12),\n",
       " Row(word='turpis', count=12),\n",
       " Row(word='faucibus', count=12),\n",
       " Row(word='nibh', count=12),\n",
       " Row(word='varius', count=12),\n",
       " Row(word='posuere', count=12),\n",
       " Row(word='cursus', count=12),\n",
       " Row(word='blandit', count=12),\n",
       " Row(word='nonummy', count=12),\n",
       " Row(word='amet', count=12),\n",
       " Row(word='risus', count=12),\n",
       " Row(word='sociosqu', count=11),\n",
       " Row(word='pretium', count=11),\n",
       " Row(word='quam', count=11),\n",
       " Row(word='bibendum', count=11),\n",
       " Row(word='potenti', count=11),\n",
       " Row(word='mauris', count=11),\n",
       " Row(word='justo', count=11),\n",
       " Row(word='mattis', count=11),\n",
       " Row(word='consequat', count=11),\n",
       " Row(word='pede', count=11),\n",
       " Row(word='imperdiet', count=11),\n",
       " Row(word='aptent', count=11),\n",
       " Row(word='felis', count=11),\n",
       " Row(word='platea', count=11),\n",
       " Row(word='tristique', count=11),\n",
       " Row(word='tempor', count=11),\n",
       " Row(word='libero', count=11),\n",
       " Row(word='ut', count=11),\n",
       " Row(word='id', count=11),\n",
       " Row(word='pharetra', count=11),\n",
       " Row(word='est', count=11),\n",
       " Row(word='senectus', count=11),\n",
       " Row(word='nam', count=10),\n",
       " Row(word='molestie', count=10),\n",
       " Row(word='ultrices', count=10),\n",
       " Row(word='accumsan', count=10),\n",
       " Row(word='curabitur', count=10),\n",
       " Row(word='lacus', count=10),\n",
       " Row(word='aliquet', count=10),\n",
       " Row(word='tincidunt', count=10),\n",
       " Row(word='auctor', count=10),\n",
       " Row(word='mus', count=10),\n",
       " Row(word='sem', count=10),\n",
       " Row(word='class', count=10),\n",
       " Row(word='dignissim', count=10),\n",
       " Row(word='parturient', count=10),\n",
       " Row(word='ipsum', count=10),\n",
       " Row(word='sed', count=10),\n",
       " Row(word='mi', count=10),\n",
       " Row(word='tortor', count=10),\n",
       " Row(word='ridiculus', count=9),\n",
       " Row(word='commodo', count=9),\n",
       " Row(word='cras', count=9),\n",
       " Row(word='iaculis', count=9),\n",
       " Row(word='dictumst', count=9),\n",
       " Row(word='vulputate', count=9),\n",
       " Row(word='nostra', count=9),\n",
       " Row(word='proin', count=9),\n",
       " Row(word='quis', count=9),\n",
       " Row(word='augue', count=9),\n",
       " Row(word='facilisi', count=8),\n",
       " Row(word='nisi', count=8),\n",
       " Row(word='elementum', count=8),\n",
       " Row(word='phasellus', count=8),\n",
       " Row(word='euismod', count=8),\n",
       " Row(word='metus', count=8),\n",
       " Row(word='nisl', count=8),\n",
       " Row(word='fames', count=8),\n",
       " Row(word='massa', count=8),\n",
       " Row(word='ornare', count=7),\n",
       " Row(word='lobortis', count=7),\n",
       " Row(word='nulla', count=7),\n",
       " Row(word='fusce', count=7),\n",
       " Row(word='primis', count=7),\n",
       " Row(word='magna', count=5),\n",
       " Row(word='gravida', count=5),\n",
       " Row(word='MAIORES QUE 10', count=115)]"
      ]
     },
     "execution_count": 181,
     "metadata": {},
     "output_type": "execute_result"
    }
   ],
   "source": [
    "appended.collect()"
   ]
  },
  {
   "cell_type": "code",
   "execution_count": 184,
   "metadata": {},
   "outputs": [
    {
     "data": {
      "text/plain": [
       "180"
      ]
     },
     "execution_count": 184,
     "metadata": {},
     "output_type": "execute_result"
    }
   ],
   "source": [
    "appended.count()"
   ]
  },
  {
   "cell_type": "code",
   "execution_count": 188,
   "metadata": {},
   "outputs": [],
   "source": [
    "appended.repartition(1).write.csv('result/task1', mode='overwrite')"
   ]
  },
  {
   "cell_type": "code",
   "execution_count": null,
   "metadata": {},
   "outputs": [],
   "source": []
  }
 ],
 "metadata": {
  "kernelspec": {
   "display_name": "Python 3",
   "language": "python",
   "name": "python3"
  },
  "language_info": {
   "codemirror_mode": {
    "name": "ipython",
    "version": 3
   },
   "file_extension": ".py",
   "mimetype": "text/x-python",
   "name": "python",
   "nbconvert_exporter": "python",
   "pygments_lexer": "ipython3",
   "version": "3.6.10"
  }
 },
 "nbformat": 4,
 "nbformat_minor": 4
}
